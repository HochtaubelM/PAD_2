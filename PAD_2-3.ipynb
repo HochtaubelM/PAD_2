{
  "nbformat": 4,
  "nbformat_minor": 0,
  "metadata": {
    "colab": {
      "provenance": []
    },
    "kernelspec": {
      "name": "python3",
      "display_name": "Python 3"
    },
    "language_info": {
      "name": "python"
    }
  },
  "cells": [
    {
      "cell_type": "markdown",
      "source": [],
      "metadata": {
        "id": "IYQCWFEfnXQc"
      }
    },
    {
      "cell_type": "code",
      "execution_count": 1,
      "metadata": {
        "id": "GU-hafxanJDx"
      },
      "outputs": [],
      "source": [
        "import numpy as np"
      ]
    },
    {
      "cell_type": "code",
      "source": [
        "# Zadanie 1 (7 pkt\n",
        "# Korzystając z poniższego kodu oraz pliku president_heights.csv utwórz tablicę zawierającą wzrost prezydentów USA.\n",
        "# Korzystając z pakietu NumPy podaj: \n",
        "# średni wzrost\n",
        "# odchylenie standardowe\n",
        "# najwyższy oraz najniższy wzrost:\n",
        "# Podaj również 25 i 75 kwantyl oraz medianę:\n",
        "\n",
        "import pandas as pd\n",
        "data = pd.read_csv('president_heights.csv')\n",
        "heights = np.array(data['height(cm)'])\n",
        "heights"
      ],
      "metadata": {
        "id": "bPw5WUCWnjyd",
        "colab": {
          "base_uri": "https://localhost:8080/"
        },
        "outputId": "d3c888a2-5f02-45e1-ae4c-16252184d59c"
      },
      "execution_count": 2,
      "outputs": [
        {
          "output_type": "execute_result",
          "data": {
            "text/plain": [
              "array([189, 170, 189, 163, 183, 171, 185, 168, 173, 183, 173, 173, 175,\n",
              "       178, 183, 193, 178, 173, 174, 183, 183, 168, 170, 178, 182, 180,\n",
              "       183, 178, 182, 188, 175, 179, 183, 193, 182, 183, 177, 185, 188,\n",
              "       188, 182, 185])"
            ]
          },
          "metadata": {},
          "execution_count": 2
        }
      ]
    },
    {
      "cell_type": "code",
      "source": [
        "#średnia\n",
        "srednia = np.mean(heights)\n",
        "#odchylenie standardowe\n",
        "odchylenie = np.std(heights)\n",
        "#najwyższy i najniższy wzrost\n",
        "maxi_wzrost = np.max(heights)\n",
        "mini_wzrost = np.min(heights)\n",
        "#25 kwantyl\n",
        "Q1 = np.quantile(heights, .25) \n",
        "#75 kwantyl\n",
        "Q3 = np.quantile(heights, .75)\n",
        "#mediana\n",
        "Q2 = np.median(heights)\n",
        "\n",
        "print(\"Mean height: \", srednia)\n",
        "print(\"Standard deviation:\", odchylenie)\n",
        "print(\"Minimum height: \", mini_wzrost)\n",
        "print(\"Maximum height: \", maxi_wzrost)\n",
        "print(\"25th percentile: \", Q1 )\n",
        "print(\"Median: \", Q2)\n",
        "print(\"75th percentile: \", Q3)"
      ],
      "metadata": {
        "colab": {
          "base_uri": "https://localhost:8080/"
        },
        "id": "iREtUQZin9zg",
        "outputId": "4257ebe6-55a8-4b8d-e415-5891b93f5c1f"
      },
      "execution_count": 5,
      "outputs": [
        {
          "output_type": "stream",
          "name": "stdout",
          "text": [
            "Mean height:  179.73809523809524\n",
            "Standard deviation: 6.931843442745892\n",
            "Minimum height:  163\n",
            "Maximum height:  193\n",
            "25th percentile:  174.25\n",
            "Median:  182.0\n",
            "75th percentile:  183.0\n"
          ]
        }
      ]
    },
    {
      "cell_type": "code",
      "source": [
        "# Zadanie 2. Wgraj dane z pliku Zadanie_2.csv\n",
        "import pandas as pd\n",
        "\n",
        "data_2 = np.genfromtxt('Zadanie_2.csv', dtype='i', delimiter=';')\n",
        "\n",
        "macierz = np.matrix(data_2)\n",
        "#a) Znajdź wektory własne oraz wartości własne dla zawartej w pliku macierzy\n",
        "wartosci_wlasne = np.linalg.eigvals(macierz)\n",
        "wektory_wlasne = np.linalg.eig(macierz)\n",
        "#b) Oblicz macierz odwrotn dla macierzy z pliku\n",
        "\n",
        "macierz_odwrotna = np.linalg.inv(macierz)\n",
        "\n",
        "macierz_odwrotna"
      ],
      "metadata": {
        "colab": {
          "base_uri": "https://localhost:8080/"
        },
        "id": "UhOvjWvArmHf",
        "outputId": "77dc0756-f598-4204-bb77-38ac17441e8a"
      },
      "execution_count": 4,
      "outputs": [
        {
          "output_type": "execute_result",
          "data": {
            "text/plain": [
              "matrix([[ 0.47461371,  0.13269253, -0.24726695, -0.82965177,  0.28250384,\n",
              "         -0.17012825,  0.58274426,  0.83686705,  0.4146721 , -1.56942847],\n",
              "        [-0.38032531, -0.11226789,  0.23216372,  0.58853747, -0.2508954 ,\n",
              "          0.10174485, -0.40729564, -0.58325689, -0.2335154 ,  1.11832726],\n",
              "        [ 0.13559662,  0.58950334, -0.24709855, -0.58789838, -0.30170699,\n",
              "         -0.12721938,  0.23740295,  1.01003036, -0.02151387, -0.64590149],\n",
              "        [ 0.01425207,  0.14570726, -0.04557569, -0.12721972, -0.08945184,\n",
              "         -0.03756624,  0.03910376,  0.23606066, -0.01436771, -0.11345749],\n",
              "        [-0.09473246,  0.01725249,  0.19145597,  0.32960274, -0.28626296,\n",
              "          0.08348529, -0.37577603, -0.27295934, -0.25855803,  0.74691827],\n",
              "        [ 0.16387032,  0.10075684, -0.15404907, -0.29794662,  0.16916877,\n",
              "         -0.02827782,  0.20469921,  0.28036265,  0.15086178, -0.5882585 ],\n",
              "        [ 0.04288003,  0.02246462, -0.0366803 , -0.09024915,  0.04322146,\n",
              "         -0.01047861,  0.06167348,  0.07009721,  0.0367806 , -0.14185925],\n",
              "        [-0.26858433, -0.21167346,  0.25168367,  0.55607234, -0.16804333,\n",
              "          0.01066975, -0.22435849, -0.52957038, -0.15757224,  0.77302113],\n",
              "        [-0.15583541, -0.13041404,  0.0984558 ,  0.3150966 , -0.09916278,\n",
              "         -0.04426337, -0.20832614, -0.18404388, -0.04309498,  0.45794224],\n",
              "        [-0.05970783, -0.11342903,  0.09122544,  0.11908074, -0.00311646,\n",
              "          0.02370807, -0.07526552, -0.06924544, -0.10963836,  0.16553689]])"
            ]
          },
          "metadata": {},
          "execution_count": 4
        }
      ]
    },
    {
      "cell_type": "code",
      "source": [
        "# Zadanie 3 (8 pkt) \n",
        "# Plik Seattle2014.csv zawiera informacje o rocznych opadach w Seattle w 2014. \n",
        "# Wykorzystaj kod poniżej aby wczytać plik.\n",
        "\n",
        "import numpy as np\n",
        "import pandas as pd\n",
        "\n",
        "rainfall = pd.read_csv('Seattle2014.csv')['PRCP'].values \n",
        "inches = rainfall / 254.0 # 1/10mm -> inches\n",
        "inches.shape\n",
        "%matplotlib inline\n",
        "import matplotlib.pyplot as plt\n",
        "import seaborn; seaborn.set()  # set plot styles\n",
        "plt.hist(inches, 40)"
      ],
      "metadata": {
        "id": "pw1C1icki7Cx",
        "colab": {
          "base_uri": "https://localhost:8080/",
          "height": 506
        },
        "outputId": "f52d6658-1d91-4403-a827-54b2260cfc65"
      },
      "execution_count": 9,
      "outputs": [
        {
          "output_type": "execute_result",
          "data": {
            "text/plain": [
              "(array([245.,  14.,  13.,  17.,   8.,   6.,   5.,   6.,   4.,   3.,   7.,\n",
              "          6.,   3.,   3.,   3.,   4.,   4.,   2.,   4.,   0.,   0.,   1.,\n",
              "          1.,   1.,   0.,   0.,   0.,   2.,   1.,   1.,   0.,   0.,   0.,\n",
              "          0.,   0.,   0.,   0.,   0.,   0.,   1.]),\n",
              " array([0.        , 0.04596457, 0.09192913, 0.1378937 , 0.18385827,\n",
              "        0.22982283, 0.2757874 , 0.32175197, 0.36771654, 0.4136811 ,\n",
              "        0.45964567, 0.50561024, 0.5515748 , 0.59753937, 0.64350394,\n",
              "        0.6894685 , 0.73543307, 0.78139764, 0.8273622 , 0.87332677,\n",
              "        0.91929134, 0.96525591, 1.01122047, 1.05718504, 1.10314961,\n",
              "        1.14911417, 1.19507874, 1.24104331, 1.28700787, 1.33297244,\n",
              "        1.37893701, 1.42490157, 1.47086614, 1.51683071, 1.56279528,\n",
              "        1.60875984, 1.65472441, 1.70068898, 1.74665354, 1.79261811,\n",
              "        1.83858268]),\n",
              " <a list of 40 Patch objects>)"
            ]
          },
          "metadata": {},
          "execution_count": 9
        },
        {
          "output_type": "display_data",
          "data": {
            "text/plain": [
              "<Figure size 432x288 with 1 Axes>"
            ],
            "image/png": "[encoded data removed]"
          },
          "metadata": {}
        }
      ]
    },
    {
      "cell_type": "markdown",
      "source": [
        "Wykorzystując operatory logiczne znajdź dni, kiedy [PODAJ LICZBĘ TYCH DNI]:: \n",
        "\n",
        "Nie padało \n",
        "\n",
        "Padało \n",
        "\n",
        "Spadło powyżej 0.5 cali (inch) deszczu \n",
        "\n",
        "Spadło poniżej 0.2 cali (inch) deszczu, ale padało! "
      ],
      "metadata": {
        "id": "KefR7plblLri"
      }
    },
    {
      "cell_type": "code",
      "source": [
        "# Wykorzystując operatory logiczne znajdź dni, kiedy [PODAJ LICZBĘ TYCH DNI]:: \n",
        "# Nie padało, Padało, Spadło powyżej 0.5 cali (inch) deszczu, \n",
        "# Spadło poniżej 0.2 cali (inch) deszczu, ale padało!\n",
        "\n",
        "with_rain = np.sum(inches > 0)\n",
        "without_rain = np.sum(inches == 0)\n",
        "days_with_more = np.sum(inches > 0.5)\n",
        "days_with_less = np.sum( inches < 0.2, where= inches > 0 )\n",
        "\n",
        "\n",
        "print('Number days without rain: ', without_rain)\n",
        "\n",
        "print('Number days with rain:', with_rain)\n",
        "\n",
        "print('Days with more than 0.5 inches: ', days_with_more)\n",
        "\n",
        "print('Rainy days with < 0.2 inches: ', days_with_less)"
      ],
      "metadata": {
        "colab": {
          "base_uri": "https://localhost:8080/"
        },
        "id": "8MdFqTVZynud",
        "outputId": "9de672b9-b1fb-4853-f46d-485f5ef99851"
      },
      "execution_count": 10,
      "outputs": [
        {
          "output_type": "stream",
          "name": "stdout",
          "text": [
            "Number days without rain:  215\n",
            "Number days with rain: 150\n",
            "Days with more than 0.5 inches:  37\n",
            "Rainy days with < 0.2 inches:  75\n"
          ]
        }
      ]
    },
    {
      "cell_type": "code",
      "source": [
        "# Korzystając z maskowania policz następujące statystyki:\n",
        "# Medianę opadów w deszczowe dni w 2014 roku\n",
        "# Medianę opadów latem w 2014 roku (czyli dni pomiędzy dniem 172 a 262)\n",
        "# Maksymalne opady latem 2014 roku\n",
        "# Maksymalne opady poza latem 2014 roku (czyli wiosna, jesień i zima)\n",
        "\n",
        "import numpy.ma as ma\n",
        "\n",
        "#Dni deszczowe w 2014 roku\n",
        "rainy_days = np.ma.masked_equal(inches, 0)\n",
        "#lato\n",
        "summer = inches.copy()\n",
        "summer[:172] = np.nan\n",
        "summer[262:] = np.nan\n",
        "#dni letnie\n",
        "summer_days = np.ma.masked_invalid(summer)\n",
        "#deszczowe dni letnie\n",
        "summer_rainy_days = np.ma.masked_equal(summer_days, 0)\n",
        "\n",
        "#nie lato\n",
        "not_summer = inches.copy()\n",
        "not_summer[172:262]= np.nan\n",
        "#dni poza latem\n",
        "not_summer_days = np.ma.masked_invalid(not_summer)\n",
        "not_summer_rainy_days = np.ma.masked_equal(not_summer_days,0)\n",
        "\n",
        "\n",
        "print(\"Median precip on rainy days in 2014 (inches): \", np.ma.median(rainy_days)) \n",
        "print(\"Median precip on summer days in 2014 (inches): \", np.ma.median(summer_days))\n",
        "print(\"Maximum precip on summer days in 2014 (inches): \", np.ma.max(summer_rainy_days)) \n",
        "print(\"Median precip on non-summer rainy days (inches):\", np.ma.median(not_summer_rainy_days))\n",
        "print('\\nDodatkowe:\\n')\n",
        "print('Median precip on summer rainy days (inches)', np.ma.median(summer_rainy_days))\n",
        "print('Median precip on non-summer days (inches)', np.ma.median(not_summer_days))\n",
        "print('Maximum precip on non-summer days (inches)', np.ma.max(not_summer_days))"
      ],
      "metadata": {
        "colab": {
          "base_uri": "https://localhost:8080/"
        },
        "id": "AIWB7MIilWy2",
        "outputId": "54e98c81-fcea-4474-d790-6ff79d4e770f"
      },
      "execution_count": null,
      "outputs": [
        {
          "output_type": "stream",
          "name": "stdout",
          "text": [
            "Median precip on rainy days in 2014 (inches):  0.19488188976377951\n",
            "Median precip on summer days in 2014 (inches):  0.0\n",
            "Maximum precip on summer days in 2014 (inches):  0.8503937007874016\n",
            "Median precip on non-summer rainy days (inches): 0.20078740157480315\n",
            "\n",
            "Dodatkowe:\n",
            "\n",
            "Median precip on summer rainy days (inches) 0.0610236220472441\n",
            "Median precip on non-summer days (inches) 0.0\n",
            "Maximum precip on non-summer days (inches) 1.8385826771653544\n"
          ]
        }
      ]
    },
    {
      "cell_type": "code",
      "source": [
        "# Zadanie 4 (5 pkt). Dane są dwa wektory A i B.\n",
        "A = [0,3,2,5] \n",
        "B = [0,3,1,4]\n",
        "nA = np.array(A)\n",
        "nB = np.array(B)\n",
        "a = 4\n",
        "# Wykonaj następujące operacje:\n",
        "# Dodaj A i B:\n",
        "print(np.add(nA,nB))\n",
        "# Odejmij B od A\n",
        "print(np.subtract(nA,nB))\n",
        "# Pomnóż wektor A przez skalar a=4\n",
        "print(np.multiply(nA,a))\n",
        "# Oblicz iloczyn skalarny wektorów A i B\n",
        "print(np.dot(nA,nB))\n",
        "# Znajdź długość wektora B\n",
        "print(np.sqrt(nB.dot(nB)))"
      ],
      "metadata": {
        "colab": {
          "base_uri": "https://localhost:8080/"
        },
        "id": "jk18yiPEf9Pi",
        "outputId": "388b2347-1396-4c33-e962-9c61a4f1f3db"
      },
      "execution_count": null,
      "outputs": [
        {
          "output_type": "stream",
          "name": "stdout",
          "text": [
            "[0 6 3 9]\n",
            "[0 0 1 1]\n",
            "[ 0 12  8 20]\n",
            "31\n",
            "5.0990195135927845\n"
          ]
        }
      ]
    }
  ]
}